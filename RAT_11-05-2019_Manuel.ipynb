{
 "cells": [
  {
   "cell_type": "markdown",
   "metadata": {},
   "source": [
    "### Bias and variance expained with an example\n",
    "\n",
    "An up-to-date example of bias and variance are self-driving cars. The algorithm of a self-driving car must be able to recognize all necessary information it receives by its sensors that capture the environment. However, there will be lots of unnecessary information inside the data that is created by the sensors, which is called noise. Reducing the bias makes the algorithm less sensitive to new data and at the same time reduces the learning from noise. A low variance means that the algorithm reacts strongly on all input data, however this leads also to learning the noise, which is not desired. Thus the algorithm must find a middle ground between being sensitive enough to recognize all necessary information from the sensor data and on the other hand avoids learning from noise, which means overfitting. The challenge is to find the optimum middle ground, where the error is optimally reduced for the training data AND the testing data."
   ]
  },
  {
   "cell_type": "code",
   "execution_count": null,
   "metadata": {},
   "outputs": [],
   "source": []
  }
 ],
 "metadata": {
  "kernelspec": {
   "display_name": "Python [conda env:nf] *",
   "language": "python",
   "name": "conda-env-nf-py"
  },
  "language_info": {
   "codemirror_mode": {
    "name": "ipython",
    "version": 3
   },
   "file_extension": ".py",
   "mimetype": "text/x-python",
   "name": "python",
   "nbconvert_exporter": "python",
   "pygments_lexer": "ipython3",
   "version": "3.6.6"
  }
 },
 "nbformat": 4,
 "nbformat_minor": 2
}
